{
 "cells": [
  {
   "cell_type": "markdown",
   "source": [
    "## I - Enoncé du problème\n",
    "\n",
    "#### Question 1. Comment peut-on formuler ce problème en termes de graphes ?\n",
    "\n",
    "Pour formuler le problème du voyageur de commerce en termes de graphes, on peut représenter les villes comme des sommets d'un graphe et les distances entre les villes comme des arêtes pondérées entre ces sommets.\n",
    "Le poids de chaque arête correspond à la distance entre les deux villes qu'elle connecte.\n",
    "\n",
    "#### Question 2. Quel est le nombre de trajets possibles pour une instance à n villes ?\n",
    "\n",
    "Pour une instance à n villes, le nombre de trajets possibles est déterminé par le nombre de permutations des villes.\n",
    "Ainsi, on a (n-1)!  trajets possibles. Cette réduction s'explique par le fait qu'il n'est pas nécessaire de prendre en compte les permutations qui sont simplement des rotations ou des réflexions du même trajet.\n",
    "Par exemple, pour une instance à 4 villes, il y a 3! = 6 trajets possibles à considérer.\n",
    "\n",
    "## II - Résolution à l’aide d’un algorithme génétique\n",
    "\n",
    "#### Question 3. Décrivez ce que sont les individus dans le cas présent. Comment les représenter par un chromosome ?\n",
    "\n",
    "Dans le cas présent, les individus sont représentés par les trajets possibles entre les villes.\n",
    "Un individu peut être représenté par un chromosome, qui est une séquence de gènes.\n",
    "Chaque gène représente une ville, et la séquence de gènes dans le chromosome représente l'ordre dans lequel le voyageur visite les villes.\n",
    "\n",
    "Par exemple, si nous avons 4 villes nommées A, B, C et D, un chromosome possible pourrait être [A, B, C, D], ce qui signifie que le voyageur visite les villes dans l'ordre A -> B -> C -> D -> A (retour à la ville de départ).\n",
    "\n",
    "### 2.1 Classe Ville\n",
    "\n",
    "#### Question 4. Créez une classe Ville ; le constructeur doit permettre d’initialiser une ville à l’aide de son nom, et de ses coordonnées x et y.\n",
    "\n",
    "#### Question 5. Ajoutez une méthode distance_vers(autre_ville) qui renvoie la distance entre la ville courante et une autre ville passée en paramètre.\n",
    "\n",
    "#### Question 6. Implémentez la méthode __str__ pour que la fonction print appelée sur un objet Ville affiche le nom de la ville.\n",
    "\n",
    "### 2.2 Méthode utilitaires\n",
    "\n",
    "#### Question 7. Créez une fonction globale nommée generer_villes. Cette fonction prend un paramètre optionnel nb_villes (dont la valeur par défaut est 20) et renvoie une liste d’objets Ville aux coordonnées aléatoires (comprises entre 0 et 300) ; le nom de la ville est simplement un numéro.\n",
    "\n",
    "#### Question 8. A l’aide du module python csv, écrivez une fonction globale nommée lire_csv, qui prend un paramètre le nom d’un fichier CSV (sur chaque ligne, on trouve simplement le nom de la ville et ses coordonnées, le tout étant séparé par des virgules). La fonction lit le fichier et renvoie la liste d’objets Ville correspondante."
   ],
   "metadata": {
    "collapsed": false
   }
  },
  {
   "cell_type": "code",
   "execution_count": 11,
   "outputs": [],
   "source": [
    "import math\n",
    "import random\n",
    "\n",
    "\n",
    "class Ville:\n",
    "\n",
    "    def __init__(self, nom, x, y):\n",
    "        \"\"\"\n",
    "        Constructeur de la classe Ville\n",
    "\n",
    "        :param nom: le nom de la ville\n",
    "        :param x: la coordonnée x de la ville\n",
    "        :param y: la coordonnée y de la ville\n",
    "        \"\"\"\n",
    "        self.nom = nom\n",
    "        self.x = x\n",
    "        self.y = y\n",
    "\n",
    "    def __str__(self):\n",
    "        \"\"\"\n",
    "        Méthode appelée lorsqu'on affiche un objet Ville\n",
    "        :return: le nom de la ville et ses coordonnées\n",
    "        \"\"\"\n",
    "        return self.nom\n",
    "\n",
    "    def distance_vers(self, autre_ville):\n",
    "        \"\"\"\n",
    "        Calcule la distance entre la ville courante et une autre ville passée en paramètre.\n",
    "\n",
    "        :param autre_ville: l'autre ville\n",
    "        :return: la distance entre les deux villes\n",
    "        \"\"\"\n",
    "        dx = self.x - autre_ville.x\n",
    "        dy = self.y - autre_ville.y\n",
    "        return math.sqrt(dx * dx + dy * dy)\n",
    "\n",
    "    def generer_villes(nb_villes=20):\n",
    "        \"\"\"\n",
    "        Génère une liste de villes aléatoires.\n",
    "        :return: la liste de villes générées.\n",
    "        \"\"\"\n",
    "        return [Ville(str(i), random.randint(0, 300), random.randint(0, 300)) for i in range(nb_villes)]\n",
    "\n",
    "    def lire_csv(fic_name):\n",
    "        \"\"\"\n",
    "        Lit un fichier CSV et renvoie la liste des villes correspondantes.\n",
    "        :return: la liste des villes lues.\n",
    "        \"\"\"\n",
    "        villes = []\n",
    "        with open(fic_name, 'r') as fichier:\n",
    "            for ligne in fichier:\n",
    "                nom, x, y = ligne.split(',')\n",
    "                villes.append(Ville(nom, int(x), int(y)))\n",
    "        return villes"
   ],
   "metadata": {
    "collapsed": false,
    "ExecuteTime": {
     "start_time": "2023-04-19T11:49:06.769832Z",
     "end_time": "2023-04-19T11:49:06.769832Z"
    }
   }
  },
  {
   "cell_type": "code",
   "execution_count": 14,
   "outputs": [
    {
     "name": "stdout",
     "output_type": "stream",
     "text": [
      "Distance entre 0 et 14 : 129.1239714383042\n",
      "Distance entre 1 et 1 : 127.4401820463232\n",
      "Distance entre 2 et 17 : 220.60145058453264\n",
      "Distance entre 3 et 9 : 127.1416532848303\n",
      "Distance entre 4 et 4 : 152.8953890737062\n",
      "Distance entre 5 et 13 : 227.1255159597882\n",
      "Distance entre 6 et 4 : 0.0\n",
      "Distance entre 7 et 1 : 166.86521506892922\n",
      "Distance entre 8 et 3 : 129.1239714383042\n",
      "Distance entre 9 et 6 : 40.80441152620633\n",
      "Distance entre 10 et 17 : 141.9929575718458\n",
      "Distance entre 11 et 0 : 237.6930794112441\n",
      "Distance entre 12 et 12 : 101.17806086301516\n",
      "Distance entre 13 et 11 : 78.77182237323191\n",
      "Distance entre 14 et 1 : 188.2153022471871\n",
      "Distance entre 15 et 6 : 265.84393918237066\n",
      "Distance entre 16 et 8 : 92.28217596047462\n",
      "Distance entre 17 et 3 : 156.42570121306792\n",
      "Distance entre 18 et 7 : 99.48869282486326\n",
      "Distance entre 19 et 8 : 202.97044119772713\n"
     ]
    }
   ],
   "source": [
    "villes = Ville.generer_villes()\n",
    "\n",
    "for ville in villes:\n",
    "    # affiche la distance avec une ville aléatoire de la liste\n",
    "    print(\"Distance entre\", ville, \"et\", random.choice(villes), \":\", ville.distance_vers(random.choice(villes)))"
   ],
   "metadata": {
    "collapsed": false,
    "ExecuteTime": {
     "start_time": "2023-04-19T11:49:41.189679Z",
     "end_time": "2023-04-19T11:49:41.199218Z"
    }
   }
  },
  {
   "cell_type": "markdown",
   "source": [
    "### 2.3 Classe Trajet\n",
    "\n",
    "Une Ville correspond à un gène, et un trajet, c’est-à-dire une suite de n villes, correspond donc à un chromosome.\n",
    "\n",
    "#### Question 9. Créez la classe Trajet : ses attributs sont une liste de Ville et la longueur du trajet correspondant. Le constructeur prend en paramètre optionnel une liste de villes :\n",
    "> - en l’absence de liste fournie, on initialise simplement une liste vide\n",
    "> - si une liste est fournie, on génère un trajet aléatoire (regardez le module random de Python) à partir de cette liste (attention à ne pas modifier la liste passée en paramètre !)\n",
    "\n",
    "#### Question 10. Créez une méthode calc_longueur servant à mettre à jour l’attribut longueur à chaque modification du trajet (pensez à reutiliser la méthode distance_vers de la classe Ville !).\n",
    "\n",
    "#### Question 11. Créez une méthode est_valide permettant de vérifier qu’une liste de villes correspond bien à un trajet valide (c’est-à-dire que chaque ville n’est présente qu’une et une seule fois).\n",
    "\n",
    "#### Question 12. Ecrivez la méthode __str__ pour que la représentation textuelle d’un trajet soit simplement la liste de ses villes.\n"
   ],
   "metadata": {
    "collapsed": false
   }
  },
  {
   "cell_type": "code",
   "execution_count": 15,
   "outputs": [],
   "source": [
    "import random\n",
    "\n",
    "\n",
    "class Trajet:\n",
    "    def __init__(self, villes=None):\n",
    "        \"\"\"\n",
    "        Constructeur de la classe Trajet\n",
    "\n",
    "        :param villes: une liste de villes\n",
    "        \"\"\"\n",
    "\n",
    "        # Si aucune liste de villes n'est fournie, on initialise une liste vide\n",
    "        if villes is None:\n",
    "            self.villes = []\n",
    "\n",
    "        else:\n",
    "            # Si une liste de villes est fournie, on génère un trajet aléatoire à partir de cette liste\n",
    "            self.villes = random.sample(villes, len(villes))\n",
    "\n",
    "        # Calcule et met à jour la longueur du trajet\n",
    "        self.longueur = self.calc_longueur()\n",
    "\n",
    "    def calc_longueur(self):\n",
    "        \"\"\"\n",
    "        Calcule la longueur du trajet.\n",
    "\n",
    "        :return: La longueur du trajet\n",
    "        \"\"\"\n",
    "        longueur = 0\n",
    "        if len(self.villes) > 1:\n",
    "\n",
    "            # Parcours les villes dans l'ordre et calcule la distance entre chaque paire de villes consécutives\n",
    "            for i in range(len(self.villes) - 1):\n",
    "                longueur += self.villes[i].distance_vers(self.villes[i + 1])\n",
    "\n",
    "            # Ajoute la distance entre la dernière ville et la première ville pour compléter le cycle\n",
    "            longueur += self.villes[-1].distance_vers(self.villes[0])\n",
    "        return longueur\n",
    "\n",
    "    def est_valide(self):\n",
    "        \"\"\"\n",
    "        Vérifie que le trajet est valide.\n",
    "        Chaque ville doit être présente une seule fois dans le trajet.\n",
    "        :return: True si le trajet est valide, False sinon\n",
    "        \"\"\"\n",
    "        return len(set(self.villes)) == len(self.villes)\n",
    "\n",
    "    def __str__(self):\n",
    "        \"\"\"\n",
    "        Méthode appelée lorsqu'on affiche un objet Trajet.\n",
    "        :return: La représentation textuelle du trajet.\n",
    "        \"\"\"\n",
    "        return \" -> \".join(str(ville) for ville in self.villes)\n"
   ],
   "metadata": {
    "collapsed": false,
    "ExecuteTime": {
     "start_time": "2023-04-19T11:52:38.543319Z",
     "end_time": "2023-04-19T11:52:38.560873Z"
    }
   }
  },
  {
   "cell_type": "code",
   "execution_count": 17,
   "outputs": [
    {
     "name": "stdout",
     "output_type": "stream",
     "text": [
      "16 -> 1 -> 2 -> 10 -> 17 -> 18 -> 19 -> 15 -> 5 -> 7 -> 11 -> 14 -> 3 -> 9 -> 0 -> 13 -> 4 -> 12 -> 6 -> 8\n",
      "Longueur du trajet : 3062.71\n",
      "Trajet valide : True\n"
     ]
    }
   ],
   "source": [
    "villes = Ville.generer_villes()\n",
    "\n",
    "trajet = Trajet(villes)\n",
    "print(trajet)\n",
    "print(f\"Longueur du trajet : {trajet.longueur:.2f}\")\n",
    "print(f\"Trajet valide : {trajet.est_valide()}\")"
   ],
   "metadata": {
    "collapsed": false,
    "ExecuteTime": {
     "start_time": "2023-04-19T11:53:08.576869Z",
     "end_time": "2023-04-19T11:53:08.597417Z"
    }
   }
  },
  {
   "cell_type": "markdown",
   "source": [
    "### 2.4 Classe Population\n",
    "\n",
    "A présent que vous pouvez créer des individus / trajets, vous allez écrire le code permettant de gérer une population.\n",
    "\n",
    "#### Question 13. Créez la classe Population ; une population est simplement une liste de Trajet (initialement vide) (ceci nous permet de créer des populations vides auxquelles nous rajouterons par la suite des individus).\n",
    "\n",
    "#### Question 14. Ajoutez la méthode initialiser(taille, liste_villes) : cette méthode initialise une population de taille individus, générés aléatoirement à partir de la liste des villes fournies (il suffit de faire appel au code de Trajet déjà écrit !).\n",
    "\n",
    "#### Question 15. Ajoutez la méthode ajouter(trajet) qui, comme son nom l’indique, ajoute le trajet fourni à la population courante.\n",
    "\n",
    "#### Question 16. Ajoutez la méthode meilleur() qui retourne le meilleur individu, c’est-à-dire le trajet de plus petite longueur dans la population (indice : comment trier une liste en Python ?).\n",
    "\n",
    "#### Question 17. Ecrivez la méthode __str__ pour que la représentation textuelle d’une population soit simplement la liste des trajets qu’elle contient."
   ],
   "metadata": {
    "collapsed": false
   }
  },
  {
   "cell_type": "code",
   "execution_count": 19,
   "outputs": [],
   "source": [
    "class Population:\n",
    "    def __init__(self):\n",
    "        \"\"\"\n",
    "        Constructeur de la classe Population\n",
    "        \"\"\"\n",
    "        self.trajets = []\n",
    "\n",
    "    def initialiser(self, taille, liste_villes):\n",
    "        \"\"\"\n",
    "        Initialise une population de taille individus, générés aléatoirement à partir de la liste des villes fournies.\n",
    "\n",
    "        :param taille: La taille de la population\n",
    "        :param liste_villes: La liste des villes à partir de laquelle générer les trajets\n",
    "        \"\"\"\n",
    "        self.trajets = [Trajet(liste_villes) for _ in range(taille)]\n",
    "\n",
    "    def ajouter(self, trajet):\n",
    "        \"\"\"\n",
    "        Ajoute un trajet à la population.\n",
    "        :param trajet: Le trajet à ajouter\n",
    "        \"\"\"\n",
    "        self.trajets.append(trajet)\n",
    "\n",
    "    def meilleur(self):\n",
    "        \"\"\"\n",
    "        Retourne le meilleur individu, c'est-à-dire le trajet de plus petite longueur dans la population.\n",
    "        :return: Le meilleur individu\n",
    "        \"\"\"\n",
    "        return min(self.trajets, key=lambda trajet: trajet.longueur)\n",
    "\n",
    "    def __str__(self):\n",
    "        \"\"\"\n",
    "        Méthode appelée lorsqu'on affiche un objet Population.\n",
    "        :return: La représentation textuelle de la population.\n",
    "        \"\"\"\n",
    "        return \"\\n\".join(str(trajet) for trajet in self.trajets)"
   ],
   "metadata": {
    "collapsed": false,
    "ExecuteTime": {
     "start_time": "2023-04-19T11:57:41.060215Z",
     "end_time": "2023-04-19T11:57:41.072043Z"
    }
   }
  },
  {
   "cell_type": "code",
   "execution_count": 29,
   "outputs": [
    {
     "name": "stdout",
     "output_type": "stream",
     "text": [
      "Population :\n",
      "17 -> 1 -> 8 -> 3 -> 10 -> 13 -> 19 -> 18 -> 16 -> 2 -> 7 -> 12 -> 11 -> 14 -> 9 -> 0 -> 6 -> 4 -> 15 -> 5\n",
      "5 -> 1 -> 15 -> 0 -> 9 -> 8 -> 6 -> 10 -> 2 -> 3 -> 4 -> 18 -> 17 -> 16 -> 14 -> 7 -> 12 -> 11 -> 13 -> 19\n",
      "19 -> 12 -> 9 -> 4 -> 1 -> 3 -> 16 -> 8 -> 5 -> 15 -> 18 -> 13 -> 10 -> 2 -> 11 -> 17 -> 6 -> 7 -> 0 -> 14\n",
      "17 -> 16 -> 0 -> 3 -> 5 -> 18 -> 2 -> 7 -> 15 -> 4 -> 1 -> 10 -> 13 -> 19 -> 6 -> 14 -> 11 -> 9 -> 12 -> 8\n",
      "2 -> 9 -> 0 -> 3 -> 19 -> 8 -> 1 -> 16 -> 5 -> 10 -> 7 -> 13 -> 12 -> 11 -> 6 -> 4 -> 15 -> 17 -> 14 -> 18\n",
      "\n",
      "Meilleur trajet :\n",
      "17 -> 16 -> 0 -> 3 -> 5 -> 18 -> 2 -> 7 -> 15 -> 4 -> 1 -> 10 -> 13 -> 19 -> 6 -> 14 -> 11 -> 9 -> 12 -> 8\n",
      "Longueur du meilleur trajet : 2949.09\n"
     ]
    }
   ],
   "source": [
    "villes = Ville.generer_villes()\n",
    "\n",
    "population = Population()\n",
    "population.initialiser(5, villes)\n",
    "\n",
    "print(\"Population :\", population, sep=\"\\n\")\n",
    "\n",
    "meilleur_trajet = population.meilleur()\n",
    "print(\"\\nMeilleur trajet :\", meilleur_trajet, sep=\"\\n\")\n",
    "print(f\"Longueur du meilleur trajet : {meilleur_trajet.longueur:.2f}\")\n"
   ],
   "metadata": {
    "collapsed": false,
    "ExecuteTime": {
     "start_time": "2023-04-19T12:00:08.956042Z",
     "end_time": "2023-04-19T12:00:08.964549Z"
    }
   }
  },
  {
   "cell_type": "code",
   "execution_count": 30,
   "outputs": [],
   "source": [
    "from tkinter import *\n",
    "\n",
    "\n",
    "class PVC_Genetique_GUI(object):\n",
    "    \"\"\"\n",
    "    Runs the application\n",
    "    \"\"\"\n",
    "\n",
    "    def __init__(self, liste_villes):\n",
    "        self.liste_villes = liste_villes\n",
    "        self.generation = 0\n",
    "\n",
    "        # Initiates a window object & sets its title\n",
    "        self.window = Tk()\n",
    "        self.window.wm_title(\"Génération 0\")\n",
    "\n",
    "        # initiates two canvases, one for current and one for best\n",
    "        self.canvas_current = Canvas(self.window, height=300, width=300)\n",
    "        self.canvas_best = Canvas(self.window, height=300, width=300)\n",
    "\n",
    "        # Initiates two labels\n",
    "        self.canvas_current_title = Label(self.window, text=\"Meilleur trajet de la génération courante :\")\n",
    "        self.canvas_best_title = Label(self.window, text=\"Meilleur trajet trouvé jusqu'ici :\")\n",
    "\n",
    "        # Initiates a status bar with a string\n",
    "        self.stat_tk_txt = StringVar()\n",
    "        self.status_label = Label(self.window, textvariable=self.stat_tk_txt, relief=SUNKEN, anchor=W)\n",
    "\n",
    "        # creates dots for the cities on both of the canvases\n",
    "        for city in liste_villes:\n",
    "            self.canvas_current.create_oval(city.x - 2, city.y - 2, city.x + 2, city.y + 2, fill='blue')\n",
    "            self.canvas_best.create_oval(city.x - 2, city.y - 2, city.x + 2, city.y + 2, fill='blue')\n",
    "\n",
    "        # Packs all the widgets (physically creates them and places them in order)\n",
    "        self.canvas_current_title.pack()\n",
    "        self.canvas_current.pack()\n",
    "        self.canvas_best_title.pack()\n",
    "        self.canvas_best.pack()\n",
    "        self.status_label.pack(side=BOTTOM, fill=X)\n",
    "\n",
    "        # Runs the main window loop\n",
    "        self.window.update()\n",
    "\n",
    "    def afficher(self, meilleur, courant, pas=1, afficher_noms=False):\n",
    "        self.generation += 1\n",
    "        if self.generation == 1:\n",
    "            self.initial = courant.longueur\n",
    "            if afficher_noms:\n",
    "                for v in self.liste_villes:\n",
    "                    self.canvas_best.create_text(v.x - 2, v.y - 5, text=v.nom, fill=\"black\", font=('Helvetica 8'))\n",
    "                    self.canvas_current.create_text(v.x - 2, v.y - 5, text=v.nom, fill=\"black\", font=('Helvetica 8'))\n",
    "\n",
    "        self.window.wm_title(\"Génération {0}\".format(self.generation))\n",
    "        self.update_canvas(self.canvas_best, meilleur, 'green')\n",
    "        if self.generation % pas == 0:\n",
    "            self.update_canvas(self.canvas_current, courant, 'red')\n",
    "\n",
    "        self.stat_tk_txt.set(\n",
    "            'Trajet initial {0:.2f}    Meilleur trajet = {1:.2f}'.format(self.initial, meilleur.longueur))\n",
    "        self.status_label.pack()\n",
    "        self.status_label.update_idletasks()\n",
    "\n",
    "    def update_canvas(self, the_canvas, trajet, color):\n",
    "        # deletes all current items with tag 'path'\n",
    "        the_canvas.delete('path')\n",
    "\n",
    "        # loops through the route\n",
    "        for i in range(len(trajet.villes)):\n",
    "            # similar to i+1 but will loop around at the end\n",
    "            next_i = i - len(trajet.villes) + 1\n",
    "\n",
    "            # creates the line from city to city\n",
    "            the_canvas.create_line(trajet.villes[i].x,\n",
    "                                   trajet.villes[i].y,\n",
    "                                   trajet.villes[next_i].x,\n",
    "                                   trajet.villes[next_i].y,\n",
    "                                   tags=(\"path\"),\n",
    "                                   fill=color)\n",
    "\n",
    "            # Packs and updates the canvas\n",
    "            the_canvas.pack()\n",
    "            the_canvas.update_idletasks()\n",
    "\n",
    "    def GA_loop(self, n_generations, pop_size, graph=False):\n",
    "        return"
   ],
   "metadata": {
    "collapsed": false,
    "ExecuteTime": {
     "start_time": "2023-04-19T12:10:55.530908Z",
     "end_time": "2023-04-19T12:10:55.580133Z"
    }
   }
  },
  {
   "cell_type": "markdown",
   "source": [
    "## Implémentation de l’algorithme génétique - Classe PVC_Genetique\n",
    "\n",
    "Une classe PVC_Genetique est fournie (elle ne contient pour l’instant qu’une méthode utilitaire clear_term). Il s’agit de la classe principale de votre programme : c’est par elle qu’on va initialiser et exécuter l’algorithme génétique.\n",
    "\n",
    "#### Question 18. Créez le constructeur de cette classe : il prend un paramètre obligatoire (la liste des villes) et deux paramètres optionnels (la taille de la population, par défaut à 40, et le nombre de générations, par défaut à 100).\n",
    "\n",
    "#### Question 19. Écrivez la méthode croiser(parent1, parent2). Elle doit renvoyer l’enfant issu du croisement.\n",
    "> Il faut bien veiller à ce que l’enfant généré corresponde à un trajet valide (on ne peut pas juste croiser les listes comme dans l’exemple du cours, car on pourrait avoir la même ville présente plusieurs fois dans le trajet) ! Proposez une méthode permettant de vous en assurer.\n",
    "\n",
    "#### Question 20. Écrivez la méthode muter(trajet). Elle doit renvoyer le trajet muté.\n",
    "> Ici aussi, on ne peut pas simplement remplacer une ville par une autre ville aléatoire. Quelle méthode de mutation proposez-vous pour garantir des trajets valides ?.\n",
    "> Pensez bien à recalculer la longueur du trajet ainsi modifié !.\n",
    "\n",
    "#### Question 21. Écrivez la méthode selectionner(population), correspondant à une méthode de sélection de votre choix pour les individus qui devront se reproduire (selon ce que vous mettrez en place, elle peut renvoyer directement une liste d’individus, ou bien un seul individus, auquel cas il faudra rappeler plusieurs fois la méthode selectionner). Vous disposez à présent de toutes les briques pour faire évoluer une population !\n",
    "\n",
    "#### Question 22. Écrivez la méthode évoluer(population) : cette méthode utilise les méthodes précédentes de la classe PVC_Genetique pour faire évoluer une population d’individus, et retourne la nouvelle population.\n",
    "\n",
    "#### Question 23. Ajoutez au constructeur deux paramètres optionnels : elitisme = True et mut_proba = 0.3, et modifiez votre compte pour prendre en compte l’élitisme lors de la sélection, et la valeur du paramètre mut_proba avant d’effectuer une mutation.\n",
    "\n",
    "#### Question 24. Enfin, la méthode principale de la classe PVC_Genetique est la méthode executer. C’est elle qui crée la population initiale puis la fait évoluer sur le nombre de générations spécifié lors de l’appel au constructeur. Elle se charge également de conserver la trace du meilleur trajet trouvé.\n",
    "> Vous pouvez, pour chaque génération, afficher le meilleur individu de cette génération ainsi que le meilleur individu depuis le début. Pour ne pas “polluer” votre terminal, vous pouvez utiliser la fonction clear_term fournie.\n",
    "> Une classe PVC_Genetique_GUI vous est fournie dans le fichier GeneticTSPGui.py ; cette classe contient\n",
    "tout le code nécessaire pour une représentation “graphique” de vos trajets.\n",
    "\n",
    "#### Question 25. Pour l’utiliser, vous devez :\n",
    "> - ajouter un attribut de type PVC_Genetique_GUI dans la classe PVC_Genetique ; le constructeur a besoin de connaître la liste des villes pour les afficher ;\n",
    "> - ajouter dans votre méthode executer un attribut optionnel afficher = True\n",
    "> - quand l’attribut afficher vaut True, faire appel à la méthode affiche() du PVC_Genetique_GUI ; cette méthode prend en paramètre le meilleur trajet global, ainsi que le meilleur trajet de la génération courante, et un paramètre booléen optionnel afficher_noms qui permet d’afficher les noms des villes sur les cartes.\n",
    "> A la fin de la méthode exécuter, ajouter la ligne votre_objet_GUI.window.mainloop()\n"
   ],
   "metadata": {
    "collapsed": false
   }
  },
  {
   "cell_type": "code",
   "execution_count": null,
   "outputs": [],
   "source": [
    "import os\n",
    "\n",
    "\n",
    "class PVC_Genetique:\n",
    "\n",
    "    def clear_term(self):\n",
    "        os.system('cls' if os.name == 'nt' else 'clear')\n",
    "\n",
    "    def __init__(self, liste_villes, pop_size=40, n_generations=100):\n",
    "        self.liste_villes = liste_villes\n",
    "        self.pop_size = pop_size\n",
    "        self.n_generations = n_generations\n",
    "\n",
    "    def croiser(self, parent1, parent2):\n",
    "\n"
   ],
   "metadata": {
    "collapsed": false
   }
  },
  {
   "cell_type": "markdown",
   "source": [],
   "metadata": {
    "collapsed": false
   }
  }
 ],
 "metadata": {
  "kernelspec": {
   "display_name": "Python 3",
   "language": "python",
   "name": "python3"
  },
  "language_info": {
   "codemirror_mode": {
    "name": "ipython",
    "version": 2
   },
   "file_extension": ".py",
   "mimetype": "text/x-python",
   "name": "python",
   "nbconvert_exporter": "python",
   "pygments_lexer": "ipython2",
   "version": "2.7.6"
  }
 },
 "nbformat": 4,
 "nbformat_minor": 0
}
