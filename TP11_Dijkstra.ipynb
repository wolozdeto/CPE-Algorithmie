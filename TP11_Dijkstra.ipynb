{
 "cells": [
  {
   "cell_type": "markdown",
   "id": "Zq4_ozuJaJLY",
   "metadata": {
    "id": "Zq4_ozuJaJLY"
   },
   "source": [
    "# TP Algorithme de Dijkstra\n",
    "L'objectif de ce TP est d'implémenter l'algorithme de Dijkstra vu en cours, dans le but de l'appliquer sur un problème concret : calculer le meilleur itinéraire entre deux points d'une ville, et l'afficher sur une carte."
   ]
  },
  {
   "cell_type": "code",
   "execution_count": null,
   "outputs": [],
   "source": [
    "!pip install osmnx\n",
    "\n",
    "import networkx as nx\n",
    "import random\n",
    "import matplotlib.pyplot as plt\n",
    "import osmnx as ox"
   ],
   "metadata": {
    "collapsed": false,
    "ExecuteTime": {
     "start_time": "2023-04-19T08:35:16.212583Z",
     "end_time": "2023-04-19T08:35:18.765265Z"
    }
   }
  },
  {
   "cell_type": "markdown",
   "id": "oSUwlPknaJLZ",
   "metadata": {
    "id": "oSUwlPknaJLZ"
   },
   "source": [
    "## Exercice 1 : Algorithme de Dijkstra\n",
    "Ecrivez une fonction `dijkstra(G, s, d)` qui prend un graphe pondéré en entrée, et calcule le plus court chemin du sommet source `s` vers le sommet destination `d`. Votre fonction doit retourner **la longueur de l'itinéraire (en m)** ainsi que **la liste des sommets permettant de reconstituer l'itinéraire**. Testez cette fonction sur un graphe aléatoire."
   ]
  },
  {
   "cell_type": "code",
   "execution_count": null,
   "outputs": [],
   "source": [
    "def graph_to_weighted(graph):\n",
    "    \"\"\"\n",
    "    Cette fonction transforme un graphe non-pondéré en un graphe pondéré, où chaque arête a un poids aléatoire compris entre 0 et 10.\n",
    "\n",
    "    :param graph: Le graphe à transformer (networkx.Graph)\n",
    "    :return: Le graphe pondéré (networkx.Graph)\n",
    "    \"\"\"\n",
    "    weighted_graph = nx.Graph()\n",
    "    weighted_graph.add_nodes_from(graph.nodes)\n",
    "\n",
    "    for u, v in graph.edges():\n",
    "        # attribue le poids à l'arête (u, v)\n",
    "        weighted_graph.add_edge(u, v, weight=random.randint(0, 10))\n",
    "\n",
    "    return weighted_graph\n",
    "\n",
    "W = graph_to_weighted(nx.random_graphs.gnm_random_graph(10, 20))\n",
    "\n",
    "pos = nx.spring_layout(W)\n",
    "nx.draw(W, pos, with_labels=True)\n",
    "# ajoute les poids des arêtes comme étiquettes\n",
    "edge_labels = nx.get_edge_attributes(W, 'weight')\n",
    "nx.draw_networkx_edge_labels(W, pos, edge_labels=edge_labels)\n",
    "plt.show()"
   ],
   "metadata": {
    "collapsed": false,
    "ExecuteTime": {
     "start_time": "2023-04-19T08:35:18.771947Z",
     "end_time": "2023-04-19T08:35:18.931825Z"
    }
   }
  },
  {
   "cell_type": "code",
   "execution_count": null,
   "id": "elh10IlhaJLZ",
   "metadata": {
    "id": "elh10IlhaJLZ",
    "ExecuteTime": {
     "start_time": "2023-04-19T08:35:21.267179Z",
     "end_time": "2023-04-19T08:35:21.285336Z"
    }
   },
   "outputs": [],
   "source": [
    "def dijkstra_nx(G, s, d):\n",
    "    \"\"\"\n",
    "    Cette fonction calcule le plus court chemin entre deux sommets d'un graphe pondéré, en utilisant l'implémentation de NetworkX.\n",
    "    Cette fonction fait office de référence pour la fonction à implémenter.\n",
    "\n",
    "    :param G: Le graphe à évaluer (networkx.Graph)\n",
    "    :param s: Le sommet source\n",
    "    :param d: Le sommet destination\n",
    "    :return: Le plus court chemin (list), la longueur de l'itinéraire (float)\n",
    "    \"\"\"\n",
    "    return nx.dijkstra_path(G, s, d), nx.dijkstra_path_length(G, s, d)\n",
    "\n",
    "def min_distance(dist, spt_set, vertices):\n",
    "    \"\"\"\n",
    "    Cette fonction retourne le sommet de distance minimale parmi les sommets non encore traités.\n",
    "\n",
    "    :param dist: Liste des distances\n",
    "    :param spt_set: liste des sommets déjà traités\n",
    "    :param vertices: nombre de sommets\n",
    "    :return: le sommet de distance minimale\n",
    "    \"\"\"\n",
    "    min_val = float('inf')\n",
    "    min_index = None\n",
    "\n",
    "    for v in range(vertices):\n",
    "        if dist[v] < min_val and not spt_set[v]:\n",
    "            min_val = dist[v]\n",
    "            min_index = v\n",
    "\n",
    "    return min_index\n",
    "\n",
    "def dijkstra(graph, src, dest):\n",
    "    \"\"\"\n",
    "    Cette fonction calcule le plus court chemin entre deux sommets d'un graphe pondéré, en utilisant l'algorithme de Dijkstra.\n",
    "\n",
    "    :param graph: Le graphe à évaluer (networkx.Graph)\n",
    "    :param src: Le sommet source\n",
    "    :param dest: Le sommet destination\n",
    "    :return: Le plus court chemin (list), la longueur de l'itinéraire (float)\n",
    "    \"\"\"\n",
    "\n",
    "    # initialisation\n",
    "    vertices = len(graph)\n",
    "    dist = [float('inf')] * vertices\n",
    "    dist[src] = 0\n",
    "    spt_set = [False] * vertices\n",
    "    prev = [None] * vertices\n",
    "\n",
    "    # pour chaque sommet\n",
    "    for z in range(vertices):\n",
    "        u = min_distance(dist, spt_set, vertices)\n",
    "        spt_set[u] = True\n",
    "\n",
    "        # si on a atteint le sommet destination, on arrête\n",
    "        if u == dest: break\n",
    "\n",
    "        # Sinon, pour chaque voisin du sommet\n",
    "        for v in graph.neighbors(u):\n",
    "\n",
    "            # si les datas sont un dict\n",
    "            if isinstance(graph[u][v], dict):\n",
    "                weight = graph[u][v]['weight']\n",
    "            else:\n",
    "                weight = graph[u][v][0]['length']\n",
    "\n",
    "            # si le voisin n'a pas encore été traité et que la distance est inférieure à la distance actuelle\n",
    "            if not spt_set[v] and dist[v] > dist[u] + weight:\n",
    "                dist[v] = dist[u] + weight\n",
    "                prev[v] = u\n",
    "\n",
    "    # reconstitution du chemin\n",
    "    path = []\n",
    "    current = dest\n",
    "    while current is not None:\n",
    "        path.append(current)\n",
    "        current = prev[current]\n",
    "    path.reverse()\n",
    "\n",
    "    return path, dist[dest]\n",
    "\n",
    "print(dijkstra(W, 0, 9))\n",
    "print(dijkstra_nx(W, 0, 9))\n"
   ]
  },
  {
   "cell_type": "markdown",
   "id": "PvFug5GRaJLa",
   "metadata": {
    "id": "PvFug5GRaJLa"
   },
   "source": [
    "## Exercice 2 : Application au calcul d'itinéraire\n",
    "[OSMnx](https://geoffboeing.com/2016/11/osmnx-python-street-networks/) est un package Python permettant d'exploiter au format NetworkX les données disponibles sur [OpenStreetMap](https://openstreetmap.org). Il permet notamment de récupérer toutes les informations du réseau routier, piéton, de transports en commun, etc. et de le manipuler avec NetworkX. De nombreux exemples sont disponibles [sur cette page](https://github.com/gboeing/osmnx-examples)."
   ]
  },
  {
   "cell_type": "markdown",
   "id": "OW-yl2SeauLE",
   "metadata": {
    "id": "OW-yl2SeauLE"
   },
   "source": [
    "Google Colaboratory permet d'exécuter des notebooks sur lesquels OSMnx et toutes ses dépendances sont installées.\n",
    "\n",
    "**Note** : Vous pouvez aussi bien sûr travailler en local, mais il vous faudra installer OSMnx et toutes ses dépendances.\n",
    "\n",
    "On commence par installer la librairie OSMnx :\n",
    "\n",
    "*Edit 2023 : la version 1.24 de `numpy` pose problème dans Colab ; on force l'installation de la version 1.23*"
   ]
  },
  {
   "cell_type": "code",
   "execution_count": null,
   "id": "MmgePFJ2ayZn",
   "metadata": {
    "id": "MmgePFJ2ayZn",
    "ExecuteTime": {
     "start_time": "2023-04-19T08:35:22.427915Z",
     "end_time": "2023-04-19T08:35:27.730997Z"
    }
   },
   "outputs": [],
   "source": [
    "!pip install numpy osmnx folium\n",
    "!pip install -U scikit-learn"
   ]
  },
  {
   "cell_type": "markdown",
   "id": "uZMP9gLVaJLa",
   "metadata": {
    "id": "uZMP9gLVaJLa"
   },
   "source": [
    "On importe ensuite les paquets nécessaires :"
   ]
  },
  {
   "cell_type": "code",
   "execution_count": null,
   "id": "eYnPPwn9aJLa",
   "metadata": {
    "id": "eYnPPwn9aJLa",
    "ExecuteTime": {
     "start_time": "2023-04-19T08:35:27.511354Z",
     "end_time": "2023-04-19T08:35:27.748682Z"
    }
   },
   "outputs": [],
   "source": [
    "import networkx as nx\n",
    "import osmnx as ox\n",
    "import sklearn as sk\n",
    "import folium\n",
    "%matplotlib inline\n",
    "ox.config(log_console=True)"
   ]
  },
  {
   "cell_type": "markdown",
   "id": "SSz65sKDaJLb",
   "metadata": {
    "id": "SSz65sKDaJLb"
   },
   "source": [
    "*A partir de maintenant, toutes les informations, fonctions... sont à chercher dans les documentations fournies au début de cette section.*\n",
    "\n",
    "**Affichez le réseau routier de Lyon :**"
   ]
  },
  {
   "cell_type": "code",
   "execution_count": null,
   "id": "BtWAo0MDaJLb",
   "metadata": {
    "id": "BtWAo0MDaJLb",
    "ExecuteTime": {
     "start_time": "2023-04-19T08:35:27.524549Z",
     "end_time": "2023-04-19T08:36:10.784871Z"
    }
   },
   "outputs": [],
   "source": [
    "# récupère le graphe routier de Lyon\n",
    "lyon_graph = ox.graph_from_place('Lyon, France')"
   ]
  },
  {
   "cell_type": "code",
   "execution_count": null,
   "outputs": [],
   "source": [
    "# affiche le graphe\n",
    "ox.plot_graph(lyon_graph, edge_linewidth=0.5, edge_color='#999999')"
   ],
   "metadata": {
    "collapsed": false,
    "ExecuteTime": {
     "start_time": "2023-04-19T08:36:10.784871Z",
     "end_time": "2023-04-19T08:36:28.713792Z"
    }
   }
  },
  {
   "cell_type": "markdown",
   "id": "LTd94NNnaJLb",
   "metadata": {
    "id": "LTd94NNnaJLb"
   },
   "source": [
    "Par défaut, les sommets sont affichés ; quand ils sont trop nombreux, ils nuisent à la lisibilité du graphe. **Affichez de nouveau le réseau routier, en jaune, dans une image de taille 10x10, et sans afficher les sommets.**"
   ]
  },
  {
   "cell_type": "code",
   "execution_count": null,
   "id": "qujq15DnaJLb",
   "metadata": {
    "id": "qujq15DnaJLb",
    "ExecuteTime": {
     "start_time": "2023-04-19T08:36:31.581693Z",
     "end_time": "2023-04-19T08:36:50.571331Z"
    }
   },
   "outputs": [],
   "source": [
    "# affiche le réseau routier en jaune dans une image de taille 10x10 et sans afficher les sommets\n",
    "ox.plot_graph(lyon_graph, edge_color='#FFFF00', figsize=(10,10), node_size=0)"
   ]
  },
  {
   "cell_type": "markdown",
   "id": "WltE0FlWaJLc",
   "metadata": {
    "id": "WltE0FlWaJLc"
   },
   "source": [
    "**Combien de sommets et d'arêtes ce graphes comporte-t-il ?**"
   ]
  },
  {
   "cell_type": "code",
   "execution_count": null,
   "id": "cq9cHrVHaJLc",
   "metadata": {
    "id": "cq9cHrVHaJLc",
    "ExecuteTime": {
     "start_time": "2023-04-19T08:36:50.571331Z",
     "end_time": "2023-04-19T08:36:50.709962Z"
    }
   },
   "outputs": [],
   "source": [
    "# récupère le nombre de nodes\n",
    "print(\"Nombre de sommets : \", lyon_graph.number_of_nodes())\n",
    "# récupère le nombre d'arêtes\n",
    "print(\"Nombre d'arêtes : \", lyon_graph.number_of_edges())"
   ]
  },
  {
   "cell_type": "markdown",
   "id": "kgxYn0uNaJLc",
   "metadata": {
    "id": "kgxYn0uNaJLc"
   },
   "source": [
    "**Superposez le réseau routier sur une carte de Lyon** (il existe une fonction d'affichage d'OSMnx pour ça ;)) ; **faites-en sorte que le nom d'une rue soit affiché quand on clique dessus**."
   ]
  },
  {
   "cell_type": "code",
   "execution_count": null,
   "outputs": [],
   "source": [
    "m = ox.plot_graph_folium(lyon_graph)\n",
    "m"
   ],
   "metadata": {
    "collapsed": false,
    "ExecuteTime": {
     "start_time": "2023-04-19T08:36:55.497221Z",
     "end_time": "2023-04-19T08:37:44.112904Z"
    }
   }
  },
  {
   "cell_type": "markdown",
   "id": "Cb51BPzwaJLd",
   "metadata": {
    "id": "Cb51BPzwaJLd"
   },
   "source": [
    "A présent, l'idée est de déterminer le plus court chemin entre les deux points géographiques fournis, à l'aide de l'algorithme de Dijkstra codé ci-dessus, et de l'afficher sur la carte."
   ]
  },
  {
   "cell_type": "markdown",
   "id": "4SHU4CHbaJLd",
   "metadata": {
    "id": "4SHU4CHbaJLd"
   },
   "source": [
    "Les numéros des sommets donnés par OpenStreetMap sont ceux de sa base de données *mondiale*, et ne sont donc pas très pratiques si on veut gérer des tableaux de sommets et repérer ces derniers par leur index. **Commencez par *réétiqueter* les sommets, de sortes qu'ils soient numérotés `0, 1, 2...`**"
   ]
  },
  {
   "cell_type": "code",
   "execution_count": null,
   "id": "9b9_6fKFaJLd",
   "metadata": {
    "id": "9b9_6fKFaJLd",
    "ExecuteTime": {
     "start_time": "2023-04-19T08:37:44.072273Z",
     "end_time": "2023-04-19T08:37:44.347197Z"
    }
   },
   "outputs": [],
   "source": [
    "# ré-étiquetage des sommets du graphe avec l'id original en attribut 'osmid' et en valeur 'id'\n",
    "conv_nodes_graph = nx.convert_node_labels_to_integers(lyon_graph, first_label=0, ordering='default', label_attribute='osmid')\n",
    "\n",
    "# affiche les 10 premiers sommets\n",
    "print(list(conv_nodes_graph.edges(data=True))[:10])"
   ]
  },
  {
   "cell_type": "markdown",
   "id": "aoIjVshsaJLc",
   "metadata": {
    "id": "aoIjVshsaJLc"
   },
   "source": [
    "La fonction `nearest_nodes` renvoie le sommet / noeud du graphe le plus proche des coordonnées géographiques (longitude, latitude) données en paramètre. Récupérez les coordonnées des deux points géographiques fournis (via Google Maps, ou [OpenStreetMap](https://www.openstreetmap.org) en faisant un clic-droit puis *Affichez l'adresse*) et affichez les numéros des sommets les plus proches."
   ]
  },
  {
   "cell_type": "code",
   "execution_count": 44,
   "id": "kKX-uMQnaJLc",
   "metadata": {
    "id": "kKX-uMQnaJLc",
    "ExecuteTime": {
     "start_time": "2023-04-19T10:06:41.853003Z",
     "end_time": "2023-04-19T10:06:43.524017Z"
    }
   },
   "outputs": [
    {
     "name": "stdout",
     "output_type": "stream",
     "text": [
      "OX :\n",
      "Coordonnées :  (45.7670249, 4.8367981)\n",
      "Noeud le plus proche :  1781\n",
      "Coordonnées :  (45.7505164, 4.8263979)\n",
      "Noeud le plus proche :  20541\n",
      "Me :\n",
      "Coordonnées :  (45.7670249, 4.8367981)\n",
      "Noeud le plus proche :  1781\n",
      "Coordonnées :  (45.7505164, 4.8263979)\n",
      "Noeud le plus proche :  20541\n"
     ]
    }
   ],
   "source": [
    "#17 : 8 Rue du Garet, 69001 Lyon - 19 Pl. Carnot, 69002 Lyon\n",
    "# from google maps\n",
    "# coord1 = (45.766951834267594, 4.836687839133145)\n",
    "# coord2 = (45.75054937108018, 4.826307225640217)\n",
    "\n",
    "coord1 = ox.geocode(\"8 Rue du Garet, 69001 Lyon\")\n",
    "coord2 = ox.geocode(\"19 Pl. Carnot, 69002 Lyon\")\n",
    "\n",
    "def print_result(coord, node):\n",
    "    print(\"Coordonnées : \", coord)\n",
    "    print(\"Noeud le plus proche : \", node)\n",
    "\n",
    "def nearest_nodes_ox(graph, long, lat):\n",
    "    \"\"\"\n",
    "    Récupère le nœud le plus proche des coordonnées géographiques (x, y) dans le graphe G\n",
    "    à l'aide de la fonction nearest_nodes d'OSMnx\n",
    "    :param graph: graphe\n",
    "    :param long: Coordonnées géographiques (longitude)\n",
    "    :param lat: Coordonnées géographiques (latitude)\n",
    "    :return: id du nœud le plus proche\n",
    "    \"\"\"\n",
    "    return ox.nearest_nodes(graph, long, lat)\n",
    "\n",
    "def nearest_nodes(graph, long, lat):\n",
    "    \"\"\"\n",
    "    Récupère le nœud le plus proche des coordonnées géographiques (x, y) dans le graphe G\n",
    "    :param graph: graphe\n",
    "    :param long: Coordonnées géographiques (longitude)\n",
    "    :param lat: Coordonnées géographiques (latitude)\n",
    "    :return: id du nœud le plus proche\n",
    "    \"\"\"\n",
    "    # récupère les coordonnées des nœuds\n",
    "    nodes = graph.nodes(data=True)\n",
    "\n",
    "    # calcule la distance entre les coordonnées et les coordonnées des noeuds\n",
    "    distances = [((long - node[1]['x'])**2 + (lat - node[1]['y'])**2)**0.5 for node in nodes]\n",
    "\n",
    "    # récupère l'id du nœud le plus proche\n",
    "    return distances.index(min(distances))\n",
    "\n",
    "\n",
    "\n",
    "print(\"OX :\")\n",
    "node1 = nearest_nodes_ox(conv_nodes_graph, coord1[1], coord1[0])\n",
    "node2 = nearest_nodes_ox(conv_nodes_graph, coord2[1], coord2[0])\n",
    "print_result(coord1, node1)\n",
    "print_result(coord2, node2)\n",
    "\n",
    "print(\"Me :\")\n",
    "node1 = nearest_nodes(conv_nodes_graph, coord1[1], coord1[0])\n",
    "node2 = nearest_nodes(conv_nodes_graph, coord2[1], coord2[0])\n",
    "print_result(coord1, node1)\n",
    "print_result(coord2, node2)"
   ]
  },
  {
   "cell_type": "markdown",
   "id": "6UIJcm05aJLd",
   "metadata": {
    "id": "6UIJcm05aJLd"
   },
   "source": [
    "Appliquez votre fonction `dijkstra` aux deux sommets du graphe, puis superposez en rouge l'itinéraire obtenu :"
   ]
  },
  {
   "cell_type": "code",
   "execution_count": null,
   "id": "nIGJih6-aJLe",
   "metadata": {
    "id": "nIGJih6-aJLe",
    "ExecuteTime": {
     "start_time": "2023-04-19T08:38:07.435056Z",
     "end_time": "2023-04-19T08:38:29.270749Z"
    }
   },
   "outputs": [],
   "source": [
    "# récupère le chemin le plus court entre les deux sommets\n",
    "local_path, dist = dijkstra(conv_nodes_graph, node1, node2)"
   ]
  },
  {
   "cell_type": "code",
   "execution_count": null,
   "outputs": [],
   "source": [
    "# affiche le chemin le plus court entre les deux sommets\n",
    "ox.plot_graph_route(conv_nodes_graph, local_path, route_color='r', route_linewidth=6, node_size=0, figsize=(10, 10))"
   ],
   "metadata": {
    "collapsed": false,
    "ExecuteTime": {
     "start_time": "2023-04-19T08:38:29.270749Z",
     "end_time": "2023-04-19T08:38:47.162744Z"
    }
   }
  },
  {
   "cell_type": "markdown",
   "id": "TM08oM1jgQDR",
   "metadata": {
    "id": "TM08oM1jgQDR"
   },
   "source": [
    "Appliquez le réétiquetage inverse au chemin obtenu pour retrouver les ID uniques des sommets OpenStreetMap :"
   ]
  },
  {
   "cell_type": "code",
   "execution_count": null,
   "id": "_x0KYKnUgdck",
   "metadata": {
    "id": "_x0KYKnUgdck",
    "ExecuteTime": {
     "start_time": "2023-04-19T08:42:53.286822Z",
     "end_time": "2023-04-19T08:43:12.680840Z"
    }
   },
   "outputs": [],
   "source": [
    "G = lyon_graph.copy()\n",
    "\n",
    "# récupère les ID des noeuds du chemin\n",
    "path_ids = [conv_nodes_graph.nodes[node]['osmid'] for node in local_path]\n",
    "\n",
    "# ajout du path sur le graph lyon_graph\n",
    "lyon_graph.add_nodes_from(path_ids, color='r')\n",
    "\n",
    "# affiche le chemin le plus court entre les deux sommets\n",
    "ox.plot_graph_route(lyon_graph, path_ids, route_color='r', route_linewidth=6, node_size=0, figsize=(10,10))"
   ]
  },
  {
   "cell_type": "markdown",
   "id": "-GRfareOca2A",
   "metadata": {
    "id": "-GRfareOca2A"
   },
   "source": [
    "Enfin, envoyez le chemin obtenu pour l'afficher sur la carte commune, en remplissant votre nom et le nom de la variable content le chemin calculé (liste d'entiers, correspondants aux ID des noeuds OpenStreetMap) :"
   ]
  },
  {
   "cell_type": "code",
   "execution_count": null,
   "id": "WESQpM2scaga",
   "metadata": {
    "id": "WESQpM2scaga",
    "ExecuteTime": {
     "start_time": "2023-04-17T12:12:46.606982Z",
     "end_time": "2023-04-17T12:12:48.996364Z"
    }
   },
   "outputs": [],
   "source": [
    "#@title Soumission du chemin\n",
    "Votre_Nom = \"Wolo\" #@param {type:\"string\"}\n",
    "Nom_Variable_Chemin = \"path_ids\" #@param {type:\"string\"}\n",
    "\n",
    "import requests\n",
    "import urllib.parse\n",
    "import json\n",
    "\n",
    "# Soumission du chemin\n",
    "def submit_path(name, path):\n",
    "  if not name:\n",
    "    raise Exception(\"Le nom ne doit pas être vide\")\n",
    "  if not isinstance(path, list):\n",
    "    raise Exception(\"Le chemin doit être une liste\")\n",
    "  if not all(node in G.nodes() for node in path):\n",
    "      raise Exception(\"Le chemin doit être une liste de noeuds uniquement\")\n",
    "  if len(path) == 0:\n",
    "    raise Exception(\"Le chemin soumis semble vide\")\n",
    "  if len(path) > 1000:\n",
    "    raise Exception(\"Le chemin soumis semble trop grand\")\n",
    "\n",
    "  url = \"https://3uh5.short.gy/F5Ki4h?name=\" + urllib.parse.quote(name) + \"&path=\" + urllib.parse.quote(json.dumps(path))\n",
    "  if requests.request(\"GET\", url).status_code == 200:\n",
    "    print(\"🎉 Chemin envoyé avec succès !\")\n",
    "  else:\n",
    "    raise Exception(\"Echec lors de l'envoi du chemin\")\n",
    "\n",
    "submit_path(Votre_Nom, path_ids)"
   ]
  },
  {
   "cell_type": "code",
   "execution_count": null,
   "outputs": [],
   "source": [],
   "metadata": {
    "collapsed": false
   }
  }
 ],
 "metadata": {
  "colab": {
   "provenance": []
  },
  "kernelspec": {
   "display_name": "Python 3 (ipykernel)",
   "language": "python",
   "name": "python3"
  },
  "language_info": {
   "codemirror_mode": {
    "name": "ipython",
    "version": 3
   },
   "file_extension": ".py",
   "mimetype": "text/x-python",
   "name": "python",
   "nbconvert_exporter": "python",
   "pygments_lexer": "ipython3",
   "version": "3.9.7"
  }
 },
 "nbformat": 4,
 "nbformat_minor": 5
}
