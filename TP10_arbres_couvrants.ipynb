{
 "cells": [
  {
   "cell_type": "markdown",
   "id": "a3e44441",
   "metadata": {},
   "source": [
    "# TP 10 - Parcours et arbres couvrants"
   ]
  },
  {
   "cell_type": "code",
   "execution_count": null,
   "outputs": [],
   "source": [
    "!pip install networkx[default] numpy matplotlib scipy\n",
    "import random\n",
    "import networkx as nx\n",
    "from collections import deque\n",
    "import matplotlib.pyplot as plt"
   ],
   "metadata": {
    "collapsed": false,
    "ExecuteTime": {
     "start_time": "2023-04-17T06:17:03.568777Z",
     "end_time": "2023-04-17T06:17:05.864050Z"
    }
   }
  },
  {
   "cell_type": "markdown",
   "source": [
    "Commencez par créer un graphe **connexe** aléatoire `G`, de type $G_{n,m}$, avec 10 sommets et 15 arêtes = n"
   ],
   "metadata": {
    "collapsed": false
   }
  },
  {
   "cell_type": "code",
   "execution_count": null,
   "outputs": [],
   "source": [
    "def get_random_connected_graph(n, m):\n",
    "    \"\"\"\n",
    "    Cette fonction génère un graphe aléatoire de type G(n,m) et s'assure qu'il soit connexe.\n",
    "\n",
    "    :param n: Nombre de sommets\n",
    "    :param m: Nombre d'arêtes\n",
    "    :return: Un graphe aléatoire de type G(n,m) connexe\n",
    "    \"\"\"\n",
    "    graph = nx.gnm_random_graph(n, m)\n",
    "    while not nx.is_connected(graph):\n",
    "        graph = nx.gnm_random_graph(n, m)\n",
    "    return graph\n",
    "\n",
    "\n",
    "G = get_random_connected_graph(10, 15)\n",
    "nx.draw(G, with_labels=True)"
   ],
   "metadata": {
    "collapsed": false,
    "ExecuteTime": {
     "start_time": "2023-04-17T06:17:05.863049Z",
     "end_time": "2023-04-17T06:17:05.973674Z"
    }
   }
  },
  {
   "cell_type": "markdown",
   "id": "34311ade",
   "metadata": {},
   "source": [
    "## Exercice 1 : Parcours en largeur (BFS)\n",
    "Ecrivez une fonction `BFSTraversal` qui prend en paramètre un graphe `G` et un sommet de départ `s`, et qui renvoie, sous forme d'une liste, l'ordre de parcours en largeur des sommets du graphe `G` (les voisins sont pris dans l'ordre croissant de leur numéro)."
   ]
  },
  {
   "cell_type": "code",
   "execution_count": null,
   "outputs": [],
   "source": [
    "def BFSTraversal_nx(graph, s):\n",
    "    \"\"\"\n",
    "    Cette fonction effectue un parcours en largeur (BFS) à partir d'un sommet donné dans un graphe donné.\n",
    "    Elle utilise la fonction `bfs_edges` de Networkx pour obtenir la liste des arêtes parcourues.\n",
    "    Elle sert ainsi de correction pour la version custom.\n",
    "\n",
    "    :param graph: Le graphe dans lequel effectuer le parcours\n",
    "    :param s: Le sommet de départ du parcours\n",
    "    :return: Une liste contenant l'ordre de parcours des sommets visités.\n",
    "    \"\"\"\n",
    "    lt = nx.bfs_edges(graph, source=s)\n",
    "    traversal_order = [s]\n",
    "    for edge in lt:\n",
    "        traversal_order.append(edge[1])\n",
    "    return traversal_order\n",
    "\n",
    "\n",
    "def BFSTraversal(graph, s):\n",
    "    \"\"\"\n",
    "    Cette fonction effectue un parcours en largeur (BFS) à partir d'un sommet donné dans un graphe donné.\n",
    "    La fonction utilise une file pour gérer les sommets à explorer et un ensemble pour marquer les sommets visités.\n",
    "\n",
    "    :param graph: Le graphe dans lequel effectuer le parcours\n",
    "    :param s: Le sommet de départ du parcours\n",
    "    :return: Une liste contenant l'ordre de parcours des sommets visités.\n",
    "    \"\"\"\n",
    "    visited = {s}  # Ensemble pour marquer les sommets visités\n",
    "    queue = deque([s])  # File pour gérer les sommets à explorer\n",
    "\n",
    "    traversal_order = []  # Liste pour stocker l'ordre de parcours\n",
    "\n",
    "    while queue:  # Tant que la file n'est pas vide\n",
    "        vertex = queue.popleft()  # On récupère et retire le premier sommet de la file\n",
    "        traversal_order.append(vertex)  # On ajoute le sommet à l'ordre de parcours\n",
    "\n",
    "        for neighbor in graph[vertex]:  # On parcourt les voisins dans l'ordre d'itération\n",
    "            if neighbor not in visited:  # Si le voisin n'a pas encore été visité\n",
    "                visited.add(neighbor)  # On le marque comme visité\n",
    "                queue.append(neighbor)  # On ajoute le voisin à la file\n",
    "\n",
    "    return traversal_order"
   ],
   "metadata": {
    "collapsed": false
   }
  },
  {
   "cell_type": "markdown",
   "id": "05170a5c",
   "metadata": {},
   "source": [
    "Testez votre fonction sur le graphe `G` créé au début du TP"
   ]
  },
  {
   "cell_type": "markdown",
   "source": [],
   "metadata": {
    "collapsed": false
   }
  },
  {
   "cell_type": "code",
   "execution_count": null,
   "id": "1d0786ef",
   "metadata": {
    "ExecuteTime": {
     "start_time": "2023-04-17T06:17:05.989775Z",
     "end_time": "2023-04-17T06:17:06.042771Z"
    }
   },
   "outputs": [],
   "source": [
    "print(\"NX : \" + str(BFSTraversal_nx(G, 0)))\n",
    "print(\"Me : \" + str(BFSTraversal(G, 0)))"
   ]
  },
  {
   "cell_type": "markdown",
   "id": "82772dbc",
   "metadata": {},
   "source": [
    "## Exercice 2 : Parcours en profondeur (DFS)\n",
    "Adaptez la fonction `BFSTraversal` pour obtenir la fonction `DFSTraversal`, qui prend en paramètre un graphe `G` et un sommet de départ `s`, et qui renvoie, sous forme d'une liste, l'ordre de parcours en profondeur des sommets du graphe `G` (les voisins sont pris dans l'ordre croissant de leur numéro)."
   ]
  },
  {
   "cell_type": "markdown",
   "id": "2d3e0050",
   "metadata": {},
   "source": [
    "### Version 1 : itérative"
   ]
  },
  {
   "cell_type": "code",
   "execution_count": null,
   "id": "a3af7fc5",
   "metadata": {
    "ExecuteTime": {
     "start_time": "2023-04-17T06:17:06.008778Z",
     "end_time": "2023-04-17T06:17:06.042771Z"
    }
   },
   "outputs": [],
   "source": [
    "def DFSTraversal_nx(graph, s):\n",
    "    \"\"\"\n",
    "    Cette fonction effectue un parcours en profondeur (DFS) à partir d'un sommet donné dans un graphe donné.\n",
    "    Elle utilise la fonction `dfs_edges` de Networkx pour obtenir la liste des arêtes parcourues.\n",
    "    Elle sert ainsi de correction pour la version custom.\n",
    "\n",
    "    :param graph: Le graphe dans lequel effectuer le parcours (networkx.Graph)\n",
    "    :param s: Le sommet de départ du parcours (int)\n",
    "    :return: Une liste contenant l'ordre de parcours des sommets visités (List[int]).\n",
    "    \"\"\"\n",
    "    lt = nx.dfs_edges(graph, source=s)\n",
    "    traversal_order = [s]\n",
    "    for edge in lt:\n",
    "        traversal_order.append(edge[1])\n",
    "    return traversal_order\n",
    "\n",
    "\n",
    "def DFSTraversal(graph, s):\n",
    "    \"\"\"\n",
    "    Cette fonction effectue un parcours en profondeur (DFS) à partir d'un sommet donné dans un graphe donné.\n",
    "    Elle utilise une pile pour gérer les sommets à visiter.\n",
    "\n",
    "    :param graph: Le graphe dans lequel effectuer le parcours (networkx.Graph)\n",
    "    :param s: Le sommet de départ du parcours (int)\n",
    "    :return: Une liste contenant l'ordre de parcours des sommets visités (List[int]).\n",
    "    \"\"\"\n",
    "\n",
    "    visited = []\n",
    "    stack = [s]\n",
    "\n",
    "    # Tant que la pile n'est pas vide, on continue le parcours\n",
    "    while stack:\n",
    "        node = stack.pop()  # On récupère et retire le sommet du dessus de la pile\n",
    "        if node not in visited:\n",
    "            visited.append(node)  # On marque le sommet comme visité\n",
    "            # On ajoute les voisins du sommet actuel à la pile\n",
    "            for neighbor in reversed(list(graph.neighbors(node))):\n",
    "                stack.append(neighbor)\n",
    "\n",
    "    return visited"
   ]
  },
  {
   "cell_type": "markdown",
   "id": "52a82414",
   "metadata": {},
   "source": [
    "Testez votre fonction sur le graphe `G` créé au début du TP"
   ]
  },
  {
   "cell_type": "code",
   "execution_count": null,
   "id": "ec6b88f6",
   "metadata": {
    "ExecuteTime": {
     "start_time": "2023-04-17T06:17:06.020770Z",
     "end_time": "2023-04-17T06:17:06.043783Z"
    }
   },
   "outputs": [],
   "source": [
    "print(\"NX : \" + str(DFSTraversal_nx(G, 0)))\n",
    "print(\"Me : \" + str(DFSTraversal(G, 0)))"
   ]
  },
  {
   "cell_type": "markdown",
   "id": "c98e03f5",
   "metadata": {},
   "source": [
    "### Version 2 : récursive\n",
    "Modifiez la fonction précédente pour transformer `DFSTraversal` en une fonction **récursive** `DFSTraversalRec`. Quels paramètres doivent être ajoutés ?"
   ]
  },
  {
   "cell_type": "code",
   "execution_count": null,
   "id": "60cd4f10",
   "metadata": {
    "ExecuteTime": {
     "start_time": "2023-04-17T06:17:06.037768Z",
     "end_time": "2023-04-17T06:17:06.060367Z"
    }
   },
   "outputs": [],
   "source": [
    "def DFSTraversal_rec(graph, s):\n",
    "    \"\"\"\n",
    "    Cette fonction effectue un parcours en profondeur (DFS) à partir d'un sommet donné dans un graphe donné.\n",
    "    Elle utilise une approche récursive pour visiter tous les sommets accessibles à partir du sommet de départ.\n",
    "\n",
    "    :param graph: Le graphe dans lequel effectuer le parcours (networkx.Graph)\n",
    "    :param s: Le sommet de départ du parcours (int)\n",
    "    :return: Une liste contenant l'ordre de parcours des sommets visités (List[int]).\n",
    "    \"\"\"\n",
    "\n",
    "    def dfs_recursive(rec_graph, node, rec_visited):\n",
    "        \"\"\"\n",
    "        Fonction récursive pour effectuer le parcours DFS.\n",
    "        Cette fonction visite récursivement les voisins d'un sommet donné qui n'ont pas encore été visités.\n",
    "\n",
    "        :param rec_graph: Le graphe dans lequel effectuer le parcours (networkx.Graph)\n",
    "        :param node: Le sommet actuel à visiter (int)\n",
    "        :param rec_visited: La liste des sommets déjà visités (List[int])\n",
    "        \"\"\"\n",
    "        rec_visited.append(node)\n",
    "        for neighbor in rec_graph.neighbors(node):\n",
    "            if neighbor not in visited:\n",
    "                dfs_recursive(rec_graph, neighbor, rec_visited)\n",
    "\n",
    "    visited = []\n",
    "    dfs_recursive(graph, s, visited)\n",
    "    return visited"
   ]
  },
  {
   "cell_type": "markdown",
   "id": "c891da97",
   "metadata": {},
   "source": [
    "Testez votre fonction sur le graphe `G` créé au début du TP"
   ]
  },
  {
   "cell_type": "code",
   "execution_count": null,
   "id": "00ea789e",
   "metadata": {
    "ExecuteTime": {
     "start_time": "2023-04-17T06:17:06.049786Z",
     "end_time": "2023-04-17T06:17:06.143534Z"
    }
   },
   "outputs": [],
   "source": [
    "print(\"NX : \" + str(DFSTraversal_nx(G, 0)))\n",
    "print(\"Me : \" + str(DFSTraversal_rec(G, 0)))"
   ]
  },
  {
   "cell_type": "markdown",
   "id": "7181b0c7",
   "metadata": {},
   "source": [
    "## Exercice 3 : Connexité\n",
    "**Question 1** : Donnez un moyen simple de générer un graphe **non connexe**, et mettez-la en oeuvre avec Networkx pour créer un graphe `H`."
   ]
  },
  {
   "cell_type": "markdown",
   "id": "eaf12664",
   "metadata": {},
   "source": [
    "**Réponse** :"
   ]
  },
  {
   "cell_type": "code",
   "execution_count": null,
   "id": "8ff22982",
   "metadata": {
    "ExecuteTime": {
     "start_time": "2023-04-17T06:17:06.065366Z",
     "end_time": "2023-04-17T06:17:06.151445Z"
    }
   },
   "outputs": [],
   "source": [
    "def get_random_none_connected_graph(n, m):\n",
    "    \"\"\"\n",
    "    Génère un graphe aléatoire non connexe de n sommets et m arêtes.\n",
    "\n",
    "    :param n: nombre de sommets\n",
    "    :param m: nombre d'arêtes\n",
    "    :return: un graphe non connexe\n",
    "    \"\"\"\n",
    "    graph = nx.gnm_random_graph(n, m)\n",
    "    while nx.is_connected(graph):\n",
    "        graph = nx.gnm_random_graph(n, m)\n",
    "    return graph\n",
    "\n",
    "\n",
    "H = get_random_none_connected_graph(10, 10)\n",
    "nx.draw(H, with_labels=True)"
   ]
  },
  {
   "cell_type": "markdown",
   "id": "bb360493",
   "metadata": {},
   "source": [
    "**Question 2** : Appliquez la fonction `DFSTraversal` au graphe `H`. Que constatez-vous ?"
   ]
  },
  {
   "cell_type": "code",
   "execution_count": null,
   "id": "a4173439",
   "metadata": {
    "ExecuteTime": {
     "start_time": "2023-04-17T06:17:06.131379Z",
     "end_time": "2023-04-17T06:17:06.151445Z"
    }
   },
   "outputs": [],
   "source": [
    "print(\" H NODES : \" + str(len(H.nodes)) + \"\\t\" + str(H.nodes))\n",
    "print(\"      NX : \" + str(len(DFSTraversal_nx(H, 0))) + \"\\t\" + str(DFSTraversal_nx(H, 0)))\n",
    "print(\"      Me : \" + str(len(DFSTraversal(H, 0))) + \"\\t\" + str(DFSTraversal(H, 0)))"
   ]
  },
  {
   "cell_type": "markdown",
   "id": "8371f3e1",
   "metadata": {},
   "source": [
    "**Réponse** :\n",
    "\n",
    "En appliquant la fonction `DFSTraversal` au graphe non connexe H, nous constatons que le parcours en profondeur ne visite pas tous les sommets du graphe. Cela est dû au fait que le graphe est non connexe, c'est-à-dire qu'il existe au moins un sommet qui n'est pas atteignable à partir d'un autre sommet. Par conséquent, on ne peut donc pas traverser les composantes non connectées du graphe."
   ]
  },
  {
   "cell_type": "markdown",
   "id": "d887d11a",
   "metadata": {},
   "source": [
    "**Question 3** : Utilisez la fonction `DFSTraversal` pour écrire une fonction `isConnected(G)` qui renvoie `True` si `G` est connexe, et `False` sinon. Testez-la sur les graphes `G` et `H`."
   ]
  },
  {
   "cell_type": "code",
   "execution_count": null,
   "id": "5afa6b63",
   "metadata": {
    "ExecuteTime": {
     "start_time": "2023-04-17T06:17:06.146449Z",
     "end_time": "2023-04-17T06:17:06.166993Z"
    }
   },
   "outputs": [],
   "source": [
    "def isConnected(graph):\n",
    "    \"\"\"\n",
    "    Cette fonction renvoie True si le graphe G est connexe, et False sinon.\n",
    "\n",
    "    :param graph: Le graphe à tester (networkx.Graph)\n",
    "    :return: True si le graphe G est connexe, et False sinon (bool)\n",
    "    \"\"\"\n",
    "    return len(DFSTraversal_nx(graph, list(graph.nodes)[0])) == len(graph.nodes)\n",
    "\n",
    "\n",
    "print(\"G IS CONNECTED :\\nMe: \" + str(isConnected(G)) + \"\\t\\tNX: \" + str(nx.is_connected(G)))\n",
    "print(\"H IS CONNECTED :\\nMe: \" + str(isConnected(H)) + \"\\t\\tNX: \" + str(nx.is_connected(H)))"
   ]
  },
  {
   "cell_type": "markdown",
   "id": "87c9376f",
   "metadata": {},
   "source": [
    "**Question 4** : Utilisez la fonction `DFSTraversal` pour écrire une fonction `connectedComponents` qui renvoie la liste de *toutes* les composantes connexes d'un graphe. *Réfléchissez bien à la complexité algorithmique de la solution mise en oeuvre*."
   ]
  },
  {
   "cell_type": "code",
   "execution_count": null,
   "id": "ddd177e3",
   "metadata": {
    "ExecuteTime": {
     "start_time": "2023-04-17T06:17:06.162987Z",
     "end_time": "2023-04-17T06:17:06.269899Z"
    }
   },
   "outputs": [],
   "source": [
    "def connectedComponents(graph):\n",
    "    \"\"\"\n",
    "    Cette fonction renvoie la liste de toutes les composantes connexes d'un graphe en utilisant la fonction DFSTraversal.\n",
    "\n",
    "    :param graph: Le graphe dans lequel trouver les composantes connexes (networkx.Graph)\n",
    "    :return: Une liste de listes contenant les sommets de chaque composante connexe (List[List[int]]).\n",
    "    \"\"\"\n",
    "    components = []\n",
    "    visited = set()\n",
    "\n",
    "    for node in graph.nodes():\n",
    "        if node not in visited:\n",
    "            traversal_order = DFSTraversal_nx(graph, node)\n",
    "            components.append(sorted(traversal_order))\n",
    "            visited.update(traversal_order)\n",
    "\n",
    "    return components\n",
    "\n",
    "\n",
    "print(\"G CONNECTED COMPONENTS :\")\n",
    "print(\"NX : \" + str(list(nx.connected_components(H))))\n",
    "print(\"Me : \" + str(connectedComponents(H)))"
   ]
  },
  {
   "cell_type": "markdown",
   "id": "720c0e54",
   "metadata": {},
   "source": [
    "**Réponse** :\n",
    "Comme chaque sommet et chaque arête sont visités une fois, le parcours en profondeur a une complexité de O(V+E), où V est le nombre de sommets et E le nombre d'arêtes."
   ]
  },
  {
   "cell_type": "markdown",
   "id": "1cd54edd",
   "metadata": {},
   "source": [
    "**Question 5** : Utilisez la fonction `connectedComponents` pour écrire une deuxième version de la fonction `isConnected(G)`. Laquelle des deux fonctions est à privilégier et pourquoi ?"
   ]
  },
  {
   "cell_type": "code",
   "execution_count": null,
   "id": "ab9197c0",
   "metadata": {
    "ExecuteTime": {
     "start_time": "2023-04-17T06:17:06.177988Z",
     "end_time": "2023-04-17T06:17:06.270897Z"
    }
   },
   "outputs": [],
   "source": [
    "def isConnected_v2(graph):\n",
    "    \"\"\"\n",
    "    Cette fonction renvoie True si le graphe G est connexe, et False sinon.\n",
    "    Elle utilise la fonction connectedComponents pour déterminer si le graphe est connexe.\n",
    "\n",
    "    :param graph: Le graphe à tester (networkx.Graph)\n",
    "    :return: True si le graphe G est connexe, et False sinon (bool)\n",
    "    \"\"\"\n",
    "    components = connectedComponents(graph)\n",
    "    return len(components) == 1\n",
    "\n",
    "\n",
    "print(\"G IS CONNECTED :\\nMe : \" + str(isConnected_v2(G)) + \"\\t\\tNX : \" + str(nx.is_connected(G)))\n",
    "print(\"H IS CONNECTED :\\nMe : \" + str(isConnected_v2(H)) + \"\\t\\tNX : \" + str(nx.is_connected(H)))"
   ]
  },
  {
   "cell_type": "markdown",
   "id": "a314968b",
   "metadata": {},
   "source": [
    "**Réponse** :\n",
    "\n",
    "La fonction isConnected_v2 est à privilégier. En effet, elle utilise la fonction connectedComponents qui calcule la liste de toutes les composantes connexes d'un graphe en utilisant la fonction DFSTraversal. Elle utilise donc une méthode plus générale et plus fiable que la fonction isConnected qui utilise la fonction DFSTraversal pour ne tester que la connectivité du premier sommet de la liste des sommets du graphe, soit un sommet arbitraire. La fonction isConnected_v2 parcourt l'ensemble du graphe pour vérifier qu'il n'y a qu'une seule composante connexe. Ainsi, la fonction isConnected_v2 est plus générale, plus robuste et donne des résultats plus fiables que la fonction isConnected.\n",
    "\n",
    "En termes de complexité algorithmique, les deux fonctions ont une complexité en temps de O(V+E), où V est le nombre de sommets et E le nombre d'arêtes du graphe. Cela est dû à l'utilisation de la fonction DFSTraversal qui a une complexité en temps de O(V+E) pour un graphe non-pondéré.\n",
    "\n",
    "Cependant, la fonction isConnected_v2 a une complexité en espace légèrement plus élevée, car elle utilise la fonction connectedComponents qui stocke toutes les composantes connexes du graphe dans une liste de listes.\n",
    "\n",
    "En termes de performance, cela dépend de la structure du graphe et de la manière dont les composantes connexes sont reliées. Si le graphe est fortement connecté, les deux fonctions devraient avoir des performances similaires. Cependant, si le graphe est faiblement connecté, la fonction isConnected peut être plus rapide car elle ne parcourt qu'un seul sommet, alors que la fonction connectedComponents peut être plus lente car elle doit parcourir tous les sommets pour déterminer toutes les composantes connexes."
   ]
  },
  {
   "cell_type": "markdown",
   "id": "64ad30ad",
   "metadata": {},
   "source": [
    "## Question 4 : Algorithme de Kruskal\n",
    "**Question 1** : Utilisez les fonctions existantes de NetworkX pour transformer `G` en un graphe **pondéré**, où chaque arête a un poids aléatoire compris entre `0` et `10`."
   ]
  },
  {
   "cell_type": "code",
   "execution_count": null,
   "outputs": [],
   "source": [
    "def graph_to_weighted(graph):\n",
    "    \"\"\"\n",
    "    Cette fonction transforme un graphe non-pondéré en un graphe pondéré, où chaque arête a un poids aléatoire compris entre 0 et 10.\n",
    "\n",
    "    :param graph: Le graphe à transformer (networkx.Graph)\n",
    "    :return: Le graphe pondéré (networkx.Graph)\n",
    "    \"\"\"\n",
    "    weighted_graph = nx.Graph()\n",
    "    weighted_graph.add_nodes_from(graph.nodes)\n",
    "\n",
    "    for u, v in graph.edges():\n",
    "        # attribue le poids à l'arête (u, v)\n",
    "        weighted_graph.add_edge(u, v, weight=random.randint(0, 10))\n",
    "\n",
    "    return weighted_graph\n",
    "\n",
    "W = graph_to_weighted(G)\n",
    "\n",
    "pos = nx.spring_layout(G)\n",
    "nx.draw(G, pos, with_labels=True)\n",
    "# ajoute les poids des arêtes comme étiquettes\n",
    "edge_labels = nx.get_edge_attributes(G, 'weight')\n",
    "nx.draw_networkx_edge_labels(G, pos, edge_labels=edge_labels)\n",
    "plt.show()"
   ],
   "metadata": {
    "collapsed": false,
    "ExecuteTime": {
     "start_time": "2023-04-17T06:17:06.199701Z",
     "end_time": "2023-04-17T06:17:06.271891Z"
    }
   }
  },
  {
   "cell_type": "markdown",
   "id": "a4298469",
   "metadata": {},
   "source": [
    "**Question 2** : Implémentez l'algorithme de Kruskal dans une fonction `Kruskal(G)`. Cette fonction doit renvoyer la *liste des arêtes* constituant un arbre couvrant de poids minimum.\n",
    "\n",
    "💡 Utilisez la fonction `is_forest` de Networkx pour détecter les cycles. "
   ]
  },
  {
   "cell_type": "code",
   "execution_count": null,
   "id": "36575e61",
   "metadata": {
    "ExecuteTime": {
     "start_time": "2023-04-17T06:17:06.273889Z",
     "end_time": "2023-04-17T06:17:07.587061Z"
    }
   },
   "outputs": [],
   "source": [
    "def Kruskal(graph):\n",
    "    \"\"\"\n",
    "    Cette fonction renvoie la liste des arêtes constituant un arbre couvrant de poids minimum en utilisant l'algorithme de Kruskal et la fonction is_forest de NetworkX pour détecter les cycles.\n",
    "\n",
    "    :param graph: Le graphe pondéré (networkx.Graph)\n",
    "    :return: La liste des arêtes constituant un arbre couvrant de poids minimum (list)\n",
    "    \"\"\"\n",
    "    # Trier les arêtes du graphe par poids croissant\n",
    "    sorted_edges = sorted(graph.edges(data=True), key=lambda x: x[2]['weight'])\n",
    "    mst_edges = []\n",
    "\n",
    "    for edge in sorted_edges:\n",
    "\n",
    "        # Ajouter temporairement l'arête à l'arbre couvrant de poids minimum\n",
    "        mst_edges.append(edge)\n",
    "\n",
    "        # Créer un graphe temporaire avec les arêtes de l'arbre couvrant de poids minimum\n",
    "        temp_graph = nx.Graph(mst_edges)\n",
    "\n",
    "        # Vérifier si l'ajout de cette arête crée un cycle\n",
    "        if not nx.is_forest(temp_graph):\n",
    "            # Si l'ajout crée un cycle, retirer l'arête de l'ensemble\n",
    "            mst_edges.remove(edge)\n",
    "\n",
    "    return mst_edges\n",
    "\n",
    "\n",
    "print(\"KRUSKAL :\")\n",
    "print(\"NX : \" + str(sorted(nx.minimum_spanning_edges(W))))\n",
    "print(\"\\nMe : \" + str(sorted(Kruskal(W))))"
   ]
  },
  {
   "cell_type": "markdown",
   "id": "63bb33a8",
   "metadata": {},
   "source": [
    "Testez votre fonction sur le graphe pondéré `G`, en affichant l'arbre couvrant obtenu (vous pouvez affichez seulement l'arbre, ou surligner les arêtes sur le graphe `G`)."
   ]
  },
  {
   "cell_type": "code",
   "execution_count": null,
   "id": "cb317b5d",
   "metadata": {
    "ExecuteTime": {
     "start_time": "2023-04-17T06:17:07.595968Z",
     "end_time": "2023-04-17T06:17:07.650669Z"
    }
   },
   "outputs": [],
   "source": [
    "mst_edges = Kruskal(W)\n",
    "layout = nx.circular_layout(W)\n",
    "\n",
    "# Dessine les arêtes du graphe original en gris\n",
    "nx.draw_networkx_edges(W, layout, edge_color='gray')\n",
    "# Dessine les arêtes de l'arbre couvrant en rouge\n",
    "nx.draw_networkx_edges(W, layout, edgelist=mst_edges, edge_color='red')\n",
    "# Dessine les nœuds\n",
    "nx.draw_networkx_nodes(W, layout)\n",
    "# Dessine les étiquettes des nœuds\n",
    "nx.draw_networkx_labels(W, layout)\n",
    "\n",
    "plt.axis('off')\n",
    "plt.show()"
   ]
  },
  {
   "cell_type": "markdown",
   "id": "c0af30b0",
   "metadata": {},
   "source": [
    "## Exercice 5 : Algorithme de Prim\n",
    "**Question 1** : implémentez l'algorithme de Prim, et testez-le sur le graphe pondéré `G`."
   ]
  },
  {
   "cell_type": "code",
   "execution_count": null,
   "id": "b092b7a9",
   "metadata": {
    "ExecuteTime": {
     "start_time": "2023-04-17T06:17:07.652671Z",
     "end_time": "2023-04-17T06:17:07.710179Z"
    }
   },
   "outputs": [],
   "source": [
    "def Prim(graph):\n",
    "    # Sélectionne un nœud arbitraire pour commencer l'arbre couvrant minimal\n",
    "    start_node = list(graph.nodes())[0]\n",
    "    mst_nodes = {start_node}\n",
    "    mst_edges = []\n",
    "    # Répète jusqu'à ce que tous les noeuds soient inclus\n",
    "    while len(mst_nodes) < len(graph.nodes()):\n",
    "        # Crée un ensemble pour stocker les arêtes candidates qui connectent un nœud à un nœud en dehors de l'arbre\n",
    "        candidate_edges = set()\n",
    "        for node in mst_nodes:\n",
    "            for neighbor in graph.neighbors(node):\n",
    "                if neighbor not in mst_nodes:\n",
    "                    candidate_edges.add((node, neighbor, graph[node][neighbor]['weight']))\n",
    "        # Sélectionne l'arête avec le poids le plus faible parmi les arêtes candidates\n",
    "        min_edge = min(candidate_edges, key=lambda edge: edge[2])\n",
    "        mst_nodes.add(min_edge[1])\n",
    "        mst_edges.append((min_edge[0], min_edge[1]))\n",
    "    return mst_edges\n",
    "\n",
    "\n",
    "print(\"PRIM :\")\n",
    "print(\"NX : \" + str(sorted(nx.minimum_spanning_edges(W, algorithm='prim', data=False))))\n",
    "print(\"Me : \" + str(sorted(Prim(W))))"
   ]
  },
  {
   "cell_type": "markdown",
   "id": "39e7eb0e",
   "metadata": {},
   "source": [
    "## Exercice 6: détection de cycle dans un graphe\n",
    "**Question 1** : Comment peut-on détecter les cycles dans un graphe à l'aide d'un parcours en profondeur ? Ecrivez la fonction `hasCycle(G)`."
   ]
  },
  {
   "cell_type": "code",
   "execution_count": null,
   "id": "d0a172f6",
   "metadata": {
    "ExecuteTime": {
     "start_time": "2023-04-17T06:17:07.669186Z",
     "end_time": "2023-04-17T06:17:07.710179Z"
    }
   },
   "outputs": [],
   "source": [
    "def hasCycle_nx(graph):\n",
    "    \"\"\"\n",
    "    Détecte la présence de cycles dans un graphe à l'aide de la fonction NetworkX `find_cycle`.\n",
    "    Cette fonction est utilisée pour vérifier la fonction `hasCycle`.\n",
    "\n",
    "    :param graph: Le graphe à explorer\n",
    "    :return: True si un cycle est détecté, sinon False\n",
    "    \"\"\"\n",
    "    try:\n",
    "        nx.find_cycle(graph)\n",
    "        return True\n",
    "    except nx.NetworkXNoCycle:\n",
    "        return False\n",
    "\n",
    "\n",
    "def hasCycle(graph):\n",
    "    \"\"\"\n",
    "    Détecte la présence de cycles dans un graphe en utilisant la recherche en profondeur (DFS).\n",
    "\n",
    "    :param graph: Le graphe à explorer\n",
    "    :return: True si un cycle est détecté, sinon False\n",
    "    \"\"\"\n",
    "\n",
    "    def check_cycle(graph_hc, node_hc, visited_hc, parent):\n",
    "        \"\"\"\n",
    "        Fonction récursive pour vérifier la présence de cycles en utilisant DFS.\n",
    "\n",
    "        :param graph_hc: Le graphe à explorer\n",
    "        :param node_hc: le nœud actuel à explorer\n",
    "        :param visited_hc: un dictionnaire qui stocke l'état de visite des nœuds\n",
    "        :param parent: le nœud parent du nœud actuel\n",
    "        :return: True si un cycle est détecté, sinon False\n",
    "        \"\"\"\n",
    "        # Marque le nœud actuel comme visité\n",
    "        visited[node_hc] = True\n",
    "\n",
    "        # Parcoure les voisins du nœud actuel\n",
    "        for neighbor in graph_hc[node_hc]:\n",
    "            # Si le voisin n'a pas encore été visité\n",
    "            if not visited_hc[neighbor]:\n",
    "                # Appel récursif pour explorer le voisin\n",
    "                if check_cycle(graph_hc, neighbor, visited_hc, node_hc):\n",
    "                    # Si on détecte un cycle, on retourne True\n",
    "                    return True\n",
    "            # Si le voisin a déjà été visité et qu'il n'est pas le parent du nœud actuel, il y a un cycle\n",
    "            elif parent != neighbor:\n",
    "                return True\n",
    "        return False\n",
    "\n",
    "    # dictionnaire d'état de visite des nœuds\n",
    "    visited = {node: False for node in graph}\n",
    "\n",
    "    for node in graph:\n",
    "        if not visited[node]:\n",
    "            # vérifie s'il y a un cycle\n",
    "            if check_cycle(graph, node, visited, None):\n",
    "                return True\n",
    "\n",
    "    return False"
   ]
  },
  {
   "cell_type": "markdown",
   "id": "961b3455",
   "metadata": {},
   "source": [
    "Testez la fonction `hasCycle` sur le graphe `G` et sur un arbre aléatoire `T`:"
   ]
  },
  {
   "cell_type": "code",
   "execution_count": null,
   "id": "217f7156",
   "metadata": {
    "ExecuteTime": {
     "start_time": "2023-04-17T06:17:07.683196Z",
     "end_time": "2023-04-17T06:17:07.711180Z"
    }
   },
   "outputs": [],
   "source": [
    "\n",
    "# Test avec le graphe G\n",
    "print(\"Graph G has cycle : \\nMe : \", hasCycle(G), \"\\nNX : \", hasCycle_nx(G))\n",
    "\n",
    "# Test avec un arbre aléatoire T\n",
    "T = nx.random_tree(10)\n",
    "print(\"\\nGraph T has cycle : \\nMe : \", hasCycle(T), \"\\nNX : \", hasCycle_nx(T))"
   ]
  },
  {
   "cell_type": "markdown",
   "id": "73fff88d",
   "metadata": {},
   "source": [
    "**Question 2** : Ecrivez une fonction `isTree(G)` qui renvoie `True` si et seulement si `G` est un arbre."
   ]
  },
  {
   "cell_type": "code",
   "execution_count": null,
   "id": "0c76693c",
   "metadata": {
    "ExecuteTime": {
     "start_time": "2023-04-17T06:17:07.697180Z",
     "end_time": "2023-04-17T06:17:07.724263Z"
    }
   },
   "outputs": [],
   "source": [
    "def isTree(G):\n",
    "    \"\"\"\n",
    "    Vérifie si un graphe non orienté est un arbre.\n",
    "    Pour être un arbre, le graphe doit être connexe et ne pas contenir de cycles.\n",
    "\n",
    "    :param G: un graphe non orienté représenté par un objet networkx.Graph\n",
    "    :return: True si G est un arbre, sinon False\n",
    "    \"\"\"\n",
    "\n",
    "    # Vérifier si le graphe est connexe\n",
    "    if not isConnected(G) and not isConnected_v2(G):\n",
    "        return False\n",
    "\n",
    "    # Vérifier si le graphe ne contient pas de cycles\n",
    "    if hasCycle(G):\n",
    "        return False\n",
    "\n",
    "    return True\n",
    "\n",
    "\n",
    "def isTree_nx(graph):\n",
    "    \"\"\"\n",
    "    Vérifie si un graphe non orienté est un arbre.\n",
    "    Cette fonction est utilisée pour vérifier la fonction `isTree`.\n",
    "\n",
    "    :param graph: un graphe non orienté représenté par un objet networkx.Graph\n",
    "    :return: True si G est un arbre, sinon False\n",
    "    \"\"\"\n",
    "    if not nx.is_connected(graph):\n",
    "        return False\n",
    "\n",
    "    if hasCycle_nx(graph):\n",
    "        return False\n",
    "\n",
    "    return True"
   ]
  },
  {
   "cell_type": "code",
   "execution_count": null,
   "outputs": [],
   "source": [
    "print(\"Graph G is tree : \\nMe : \", isTree(G), \"\\nNX : \", isTree_nx(G), nx.is_tree(G))\n",
    "print(\"\\nGraph T is tree : \\nMe : \", isTree(T), \"\\nNX : \", isTree_nx(T), nx.is_tree(T))"
   ],
   "metadata": {
    "collapsed": false,
    "ExecuteTime": {
     "start_time": "2023-04-17T06:17:07.715180Z",
     "end_time": "2023-04-17T06:17:07.735189Z"
    }
   }
  }
 ],
 "metadata": {
  "kernelspec": {
   "display_name": "Python 3 (ipykernel)",
   "language": "python",
   "name": "python3"
  },
  "language_info": {
   "codemirror_mode": {
    "name": "ipython",
    "version": 3
   },
   "file_extension": ".py",
   "mimetype": "text/x-python",
   "name": "python",
   "nbconvert_exporter": "python",
   "pygments_lexer": "ipython3",
   "version": "3.9.7"
  }
 },
 "nbformat": 4,
 "nbformat_minor": 5
}
